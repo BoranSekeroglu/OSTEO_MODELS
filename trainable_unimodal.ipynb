{
 "cells": [
  {
   "cell_type": "code",
   "execution_count": 1,
   "id": "6766beee",
   "metadata": {},
   "outputs": [],
   "source": [
    "import numpy as np\n",
    "from tensorflow import keras\n",
    "import tensorflow as tf\n",
    "from tensorflow.keras.models import Sequential\n",
    "from tensorflow.keras.layers import Dense, Dropout, Activation, Flatten\n",
    "from tensorflow.keras.layers import Convolution2D, MaxPooling2D\n",
    "from tensorflow.keras import layers\n",
    "from tensorflow.keras.preprocessing import image"
   ]
  },
  {
   "cell_type": "code",
   "execution_count": 2,
   "id": "357e3df2",
   "metadata": {},
   "outputs": [],
   "source": [
    "train_image = []\n",
    "train = []\n",
    "\n",
    "osteo = '035516(119).jpg'\n",
    "control = '15812904_t1_tse_sag_7.jpg'\n",
    "\n",
    "img = image.load_img(osteo,target_size=(80,60,3))\n",
    "img = image.img_to_array(img)\n",
    "resized = img/255\n",
    "train_image.append(resized)\n",
    "train.append(1)\n",
    "img = image.load_img(control,target_size=(80,60,3))\n",
    "img = image.img_to_array(img)\n",
    "resized = img/255\n",
    "train_image.append(resized)\n",
    "train.append(0)\n",
    "    \n",
    "\n",
    "y = np.array(train)\n",
    "X = np.array(train_image)"
   ]
  },
  {
   "cell_type": "code",
   "execution_count": 3,
   "id": "ff6f0a1c",
   "metadata": {},
   "outputs": [],
   "source": [
    "inputs = keras.Input(shape=(80,60, 3), name=\"img\")\n",
    "block1A = layers.Conv2D(32, 3, padding='valid', activation=\"relu\",name = \"a1\")(inputs)\n",
    "block1Ar = layers.BatchNormalization()(block1A)\n",
    "block1Ao = layers.MaxPooling2D(2)(block1Ar)\n",
    "block1B = layers.Conv2D(32, 3, padding='valid', activation=\"relu\",name = \"a2\")(block1Ao)\n",
    "block1Br = layers.BatchNormalization()(block1B)\n",
    "block1Bo = layers.MaxPooling2D(2)(block1Br)\n",
    "   \n",
    "block2A = layers.Conv2D(32, 5, strides = (2,2), padding='same', name = \"b1\", activation=\"relu\")(inputs)\n",
    "block2Ar = layers.BatchNormalization()(block2A)\n",
    "block2B = layers.Conv2D(32, 5, strides = (2,2), padding='valid', name = \"b2\", activation=\"relu\")(block2Ar)\n",
    "block2Br = layers.BatchNormalization()(block2B)\n",
    "\n",
    "\n",
    "add1 = layers.add([block1Bo, block2Br],name = \"add_layer\")\n",
    "add1c = layers.Conv2D(64, 5, activation=\"relu\", strides = (1,1), padding='same', name = \"add_out\")(add1)\n",
    "\n",
    "fl = layers.Flatten()(add1c)\n",
    "\n",
    "d1 = layers.Dense(32, activation=\"relu\")(fl)\n",
    "\n",
    "d2 = layers.Dense(16, activation=\"relu\")(d1)\n",
    "\n",
    "outputs = layers.Dense(1, activation=\"sigmoid\")(d2)\n",
    "\n",
    "model = keras.Model(inputs, outputs, name=\"uni\")\n",
    "\n",
    "model.compile(loss='binary_crossentropy', optimizer='adam', metrics=['accuracy'])"
   ]
  },
  {
   "cell_type": "code",
   "execution_count": 4,
   "id": "c3bc7f55",
   "metadata": {},
   "outputs": [
    {
     "name": "stdout",
     "output_type": "stream",
     "text": [
      "Model: \"uni\"\n",
      "__________________________________________________________________________________________________\n",
      " Layer (type)                   Output Shape         Param #     Connected to                     \n",
      "==================================================================================================\n",
      " img (InputLayer)               [(None, 80, 60, 3)]  0           []                               \n",
      "                                                                                                  \n",
      " a1 (Conv2D)                    (None, 78, 58, 32)   896         ['img[0][0]']                    \n",
      "                                                                                                  \n",
      " batch_normalization (BatchNorm  (None, 78, 58, 32)  128         ['a1[0][0]']                     \n",
      " alization)                                                                                       \n",
      "                                                                                                  \n",
      " max_pooling2d (MaxPooling2D)   (None, 39, 29, 32)   0           ['batch_normalization[0][0]']    \n",
      "                                                                                                  \n",
      " b1 (Conv2D)                    (None, 40, 30, 32)   2432        ['img[0][0]']                    \n",
      "                                                                                                  \n",
      " a2 (Conv2D)                    (None, 37, 27, 32)   9248        ['max_pooling2d[0][0]']          \n",
      "                                                                                                  \n",
      " batch_normalization_2 (BatchNo  (None, 40, 30, 32)  128         ['b1[0][0]']                     \n",
      " rmalization)                                                                                     \n",
      "                                                                                                  \n",
      " batch_normalization_1 (BatchNo  (None, 37, 27, 32)  128         ['a2[0][0]']                     \n",
      " rmalization)                                                                                     \n",
      "                                                                                                  \n",
      " b2 (Conv2D)                    (None, 18, 13, 32)   25632       ['batch_normalization_2[0][0]']  \n",
      "                                                                                                  \n",
      " max_pooling2d_1 (MaxPooling2D)  (None, 18, 13, 32)  0           ['batch_normalization_1[0][0]']  \n",
      "                                                                                                  \n",
      " batch_normalization_3 (BatchNo  (None, 18, 13, 32)  128         ['b2[0][0]']                     \n",
      " rmalization)                                                                                     \n",
      "                                                                                                  \n",
      " add_layer (Add)                (None, 18, 13, 32)   0           ['max_pooling2d_1[0][0]',        \n",
      "                                                                  'batch_normalization_3[0][0]']  \n",
      "                                                                                                  \n",
      " add_out (Conv2D)               (None, 18, 13, 64)   51264       ['add_layer[0][0]']              \n",
      "                                                                                                  \n",
      " flatten (Flatten)              (None, 14976)        0           ['add_out[0][0]']                \n",
      "                                                                                                  \n",
      " dense (Dense)                  (None, 32)           479264      ['flatten[0][0]']                \n",
      "                                                                                                  \n",
      " dense_1 (Dense)                (None, 16)           528         ['dense[0][0]']                  \n",
      "                                                                                                  \n",
      " dense_2 (Dense)                (None, 1)            17          ['dense_1[0][0]']                \n",
      "                                                                                                  \n",
      "==================================================================================================\n",
      "Total params: 569,793\n",
      "Trainable params: 569,537\n",
      "Non-trainable params: 256\n",
      "__________________________________________________________________________________________________\n"
     ]
    }
   ],
   "source": [
    "model.summary()"
   ]
  },
  {
   "cell_type": "code",
   "execution_count": 5,
   "id": "736d4d89",
   "metadata": {},
   "outputs": [
    {
     "name": "stdout",
     "output_type": "stream",
     "text": [
      "Epoch 1/5\n",
      "1/1 [==============================] - 2s 2s/step - loss: 0.8371 - accuracy: 0.0000e+00\n",
      "Epoch 2/5\n",
      "1/1 [==============================] - 0s 20ms/step - loss: 1.3231 - accuracy: 0.5000\n",
      "Epoch 3/5\n",
      "1/1 [==============================] - 0s 20ms/step - loss: 0.0676 - accuracy: 1.0000\n",
      "Epoch 4/5\n",
      "1/1 [==============================] - 0s 21ms/step - loss: 0.0030 - accuracy: 1.0000\n",
      "Epoch 5/5\n",
      "1/1 [==============================] - 0s 20ms/step - loss: 2.1681e-04 - accuracy: 1.0000\n"
     ]
    }
   ],
   "source": [
    "history = model.fit(X, y, epochs= 5, batch_size=16)"
   ]
  },
  {
   "cell_type": "code",
   "execution_count": 6,
   "id": "afbc3a45",
   "metadata": {},
   "outputs": [
    {
     "name": "stdout",
     "output_type": "stream",
     "text": [
      "1/1 [==============================] - 0s 186ms/step - loss: 0.6279 - accuracy: 1.0000\n",
      "Accuracy: 100.00\n"
     ]
    }
   ],
   "source": [
    "LO, accuracy = model.evaluate(X, y)\n",
    "print('Accuracy: %.2f' % (accuracy*100))"
   ]
  },
  {
   "cell_type": "code",
   "execution_count": null,
   "id": "d732d2f1",
   "metadata": {},
   "outputs": [],
   "source": []
  }
 ],
 "metadata": {
  "kernelspec": {
   "display_name": "Python 3 (ipykernel)",
   "language": "python",
   "name": "python3"
  },
  "language_info": {
   "codemirror_mode": {
    "name": "ipython",
    "version": 3
   },
   "file_extension": ".py",
   "mimetype": "text/x-python",
   "name": "python",
   "nbconvert_exporter": "python",
   "pygments_lexer": "ipython3",
   "version": "3.8.16"
  }
 },
 "nbformat": 4,
 "nbformat_minor": 5
}
